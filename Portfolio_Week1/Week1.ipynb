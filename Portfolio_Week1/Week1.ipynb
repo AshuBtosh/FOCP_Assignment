{
 "cells": [
  {
   "cell_type": "code",
   "execution_count": null,
   "metadata": {},
   "outputs": [],
   "source": [
    "\"\"\" Write a program that prints a cheery message (such as \"Hello World\") on the\n",
    "screen. Run it, and note that you have taken the first step to becoming a\n",
    "programmer\"\"\""
   ]
  },
  {
   "cell_type": "code",
   "execution_count": 1,
   "metadata": {},
   "outputs": [
    {
     "name": "stdout",
     "output_type": "stream",
     "text": [
      "Hello World! You've just taken the first step to becoming a programmer!\n"
     ]
    }
   ],
   "source": [
    "\n",
    "print(\"Hello World! You've just taken the first step to becoming a programmer!\")\n"
   ]
  },
  {
   "cell_type": "code",
   "execution_count": null,
   "metadata": {},
   "outputs": [],
   "source": [
    "\"\"\"Make a copy of the previous program, and modify it so that it displays your name.\n",
    "So if your name is Herbert the message should become:\n",
    "Hello, Herbert!\n",
    "Note: Very few programs are written from scratch. It is usually best to start with a\n",
    "program that you know works, and ideally does something similar to the new\n",
    "program.\"\"\""
   ]
  },
  {
   "cell_type": "code",
   "execution_count": 2,
   "metadata": {},
   "outputs": [
    {
     "name": "stdout",
     "output_type": "stream",
     "text": [
      "Hello, Helbert! \n"
     ]
    }
   ],
   "source": [
    "\n",
    "name = \"Helbert\"\n",
    "print(f\"Hello, {name}! \")\n"
   ]
  },
  {
   "cell_type": "code",
   "execution_count": null,
   "metadata": {},
   "outputs": [],
   "source": [
    "\"\"\"Over the summer, temperatures in Yorkshire reached 38.4C. Write a program that\n",
    "converts this value in Celsius to the equivalent temperature in Fahrenheit, and then\n",
    "displays both.\"\"\""
   ]
  },
  {
   "cell_type": "code",
   "execution_count": 3,
   "metadata": {},
   "outputs": [
    {
     "name": "stdout",
     "output_type": "stream",
     "text": [
      "Temperature in Celsius: 38.4°C\n",
      "Equivalent Temperature in Fahrenheit: 101.11999999999999°F\n"
     ]
    }
   ],
   "source": [
    "# Temperature Conversion Program\n",
    "celsius_temperature = 38.4\n",
    "\n",
    "# Convert Celsius to Fahrenheit\n",
    "fahrenheit_temperature = (celsius_temperature * 9/5) + 32\n",
    "\n",
    "# Display the temperatures\n",
    "print(f\"Temperature in Celsius: {celsius_temperature}°C\")\n",
    "print(f\"Equivalent Temperature in Fahrenheit: {fahrenheit_temperature}°F\")\n"
   ]
  },
  {
   "cell_type": "code",
   "execution_count": null,
   "metadata": {},
   "outputs": [],
   "source": [
    "\"\"\"In a long career for Yorkshire, Geoffrey Boycott played 609 matches, batted 1014\n",
    "times, was not out 162 times, and scored 48426 runs. Write a program to calculate\n",
    "and display Boycott's batting average.\n",
    "Note: A batting average is the number of runs scored divided by the number of\n",
    "completed innings (i.e. the total times batted minus the times not out).\"\"\""
   ]
  },
  {
   "cell_type": "code",
   "execution_count": 4,
   "metadata": {},
   "outputs": [
    {
     "name": "stdout",
     "output_type": "stream",
     "text": [
      "Geoffrey Boycott's Batting Average: 56.84\n"
     ]
    }
   ],
   "source": [
    "# Geoffrey Boycott's Batting Average Calculation\n",
    "total_runs = 48426\n",
    "total_innings = 1014\n",
    "not_outs = 162\n",
    "\n",
    "# Calculate innings completed\n",
    "innings_completed = total_innings - not_outs\n",
    "\n",
    "# Calculate batting average\n",
    "batting_average = total_runs / innings_completed\n",
    "\n",
    "# Display the batting average\n",
    "print(f\"Geoffrey Boycott's Batting Average: {batting_average:.2f}\")\n"
   ]
  },
  {
   "cell_type": "code",
   "execution_count": null,
   "metadata": {},
   "outputs": [],
   "source": [
    "\"\"\"The Head of Computing at the University of Poppleton is tasked with dividing a\n",
    "group of students into lab groups. A lab group is 24 students, since this is the\n",
    "number of PCs in a lab. Write a program that calculates how many groups are\n",
    "needed for the following number of students: 113, 175, 12. Display how many full\n",
    "groups there will be, and how many students will be in the smaller \"left over\"\n",
    "group.\"\"\""
   ]
  },
  {
   "cell_type": "code",
   "execution_count": 5,
   "metadata": {},
   "outputs": [
    {
     "name": "stdout",
     "output_type": "stream",
     "text": [
      "For 113 students:\n",
      "Full Groups: 4\n",
      "Remaining Students in the Smaller Group: 17\n",
      "\n",
      "For 175 students:\n",
      "Full Groups: 7\n",
      "Remaining Students in the Smaller Group: 7\n",
      "\n",
      "For 12 students:\n",
      "Full Groups: 0\n",
      "Remaining Students in the Smaller Group: 12\n",
      "\n"
     ]
    }
   ],
   "source": [
    "# Lab Group Calculation Program\n",
    "students = [113, 175, 12]\n",
    "students_per_group = 24\n",
    "\n",
    "for total_students in students:\n",
    "    # Calculate the number of full groups\n",
    "    full_groups = total_students // students_per_group\n",
    "\n",
    "    # Calculate the number of students in the remaining group\n",
    "    remaining_students = total_students % students_per_group\n",
    "\n",
    "    # Display the results\n",
    "    print(f\"For {total_students} students:\")\n",
    "    print(f\"Full Groups: {full_groups}\")\n",
    "    print(f\"Remaining Students in the Smaller Group: {remaining_students}\\n\")\n"
   ]
  }
 ],
 "metadata": {
  "kernelspec": {
   "display_name": "Python 3",
   "language": "python",
   "name": "python3"
  },
  "language_info": {
   "codemirror_mode": {
    "name": "ipython",
    "version": 3
   },
   "file_extension": ".py",
   "mimetype": "text/x-python",
   "name": "python",
   "nbconvert_exporter": "python",
   "pygments_lexer": "ipython3",
   "version": "3.11.1"
  }
 },
 "nbformat": 4,
 "nbformat_minor": 2
}
