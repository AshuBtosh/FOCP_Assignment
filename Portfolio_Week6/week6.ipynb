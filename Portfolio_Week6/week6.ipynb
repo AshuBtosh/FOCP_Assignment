{
 "cells": [
  {
   "cell_type": "markdown",
   "metadata": {},
   "source": [
    "Write a function that accepts a positive integer as a parameter and then returns a\n",
    "representation of that number in binary (base 2).\n",
    "Hint: This is in many ways a trick question. Think!\n"
   ]
  },
  {
   "cell_type": "code",
   "execution_count": 1,
   "metadata": {},
   "outputs": [
    {
     "name": "stdout",
     "output_type": "stream",
     "text": [
      "Binary representation of 6: 110\n"
     ]
    }
   ],
   "source": [
    "def decimal_to_binary(decimal_number):\n",
    "    if decimal_number < 0:\n",
    "        raise ValueError(\"Input must be a positive integer.\")\n",
    "\n",
    "    # Using built-in bin() function to get the binary representation\n",
    "    binary_representation = bin(decimal_number)[2:]\n",
    "    \n",
    "    return binary_representation\n",
    "\n",
    "# Test the function\n",
    "try:\n",
    "    decimal_input = int(input(\"Enter a positive integer: \"))\n",
    "    binary_result = decimal_to_binary(decimal_input)\n",
    "    print(f\"Binary representation of {decimal_input}: {binary_result}\")\n",
    "except ValueError as e:\n",
    "    print(f\"Error: {e}\")\n"
   ]
  },
  {
   "cell_type": "markdown",
   "metadata": {},
   "source": [
    "Write and test a function that takes an integer as its parameter and returns the\n",
    "factors of that integer. (A factor is an integer which can be multiplied by another to\n",
    "yield the original).\n",
    "\n"
   ]
  },
  {
   "cell_type": "code",
   "execution_count": 2,
   "metadata": {},
   "outputs": [
    {
     "name": "stdout",
     "output_type": "stream",
     "text": [
      "Factors of 21: [1, 3, 7, 21]\n"
     ]
    }
   ],
   "source": [
    "def find_factors(integer):\n",
    "    if integer <= 0:\n",
    "        raise ValueError(\"Input must be a positive integer.\")\n",
    "\n",
    "    factors = []\n",
    "    for i in range(1, integer + 1):\n",
    "        if integer % i == 0:\n",
    "            factors.append(i)\n",
    "\n",
    "    return factors\n",
    "\n",
    "# Test the function\n",
    "try:\n",
    "    input_integer = int(input(\"Enter a positive integer: \"))\n",
    "    result_factors = find_factors(input_integer)\n",
    "    print(f\"Factors of {input_integer}: {result_factors}\")\n",
    "except ValueError as e:\n",
    "    print(f\"Error: {e}\")\n"
   ]
  },
  {
   "cell_type": "markdown",
   "metadata": {},
   "source": [
    "Write and test a function that determines if a given integer is a prime number. A\n",
    "prime number is an integer greater than 1 that cannot be produced by multiplying\n",
    "two other integers."
   ]
  },
  {
   "cell_type": "code",
   "execution_count": 3,
   "metadata": {},
   "outputs": [
    {
     "name": "stdout",
     "output_type": "stream",
     "text": [
      "88 is not a prime number.\n"
     ]
    }
   ],
   "source": [
    "def is_prime(number):\n",
    "    if number <= 1:\n",
    "        return False\n",
    "    elif number == 2:\n",
    "        return True\n",
    "    elif number % 2 == 0:\n",
    "        return False\n",
    "\n",
    "    # Check odd divisors up to the square root of the number\n",
    "    for i in range(3, int(number**0.5) + 1, 2):\n",
    "        if number % i == 0:\n",
    "            return False\n",
    "\n",
    "    return True\n",
    "\n",
    "# Test the function\n",
    "try:\n",
    "    input_number = int(input(\"Enter an integer: \"))\n",
    "    if is_prime(input_number):\n",
    "        print(f\"{input_number} is a prime number.\")\n",
    "    else:\n",
    "        print(f\"{input_number} is not a prime number.\")\n",
    "except ValueError as e:\n",
    "    print(f\"Error: {e}\")\n"
   ]
  },
  {
   "cell_type": "markdown",
   "metadata": {},
   "source": [
    "Computers are commonly used in encryption. A very simple form of encryption\n",
    "(more accurately \"obfuscation\") would be to remove the spaces from a message\n",
    "and reverse the resulting string. Write, and test, a function that takes a string\n",
    "containing a message and \"encrypts\" it in this way"
   ]
  },
  {
   "cell_type": "code",
   "execution_count": 5,
   "metadata": {},
   "outputs": [
    {
     "name": "stdout",
     "output_type": "stream",
     "text": [
      "Encrypted message: moneymesendPlease\n"
     ]
    }
   ],
   "source": [
    "def simple_encrypt(message):\n",
    "    # Remove spaces and reverse the string\n",
    "    encrypted_message = ''.join(message.split()[::-1])\n",
    "    return encrypted_message\n",
    "\n",
    "# Test the function\n",
    "input_message = input(\"Enter a message: \")\n",
    "encrypted_result = simple_encrypt(input_message)\n",
    "print(f\"Encrypted message: {encrypted_result}\")\n"
   ]
  }
 ],
 "metadata": {
  "kernelspec": {
   "display_name": "Python 3",
   "language": "python",
   "name": "python3"
  },
  "language_info": {
   "codemirror_mode": {
    "name": "ipython",
    "version": 3
   },
   "file_extension": ".py",
   "mimetype": "text/x-python",
   "name": "python",
   "nbconvert_exporter": "python",
   "pygments_lexer": "ipython3",
   "version": "3.11.1"
  }
 },
 "nbformat": 4,
 "nbformat_minor": 2
}
