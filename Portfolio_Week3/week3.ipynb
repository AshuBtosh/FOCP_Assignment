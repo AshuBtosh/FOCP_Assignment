{
 "cells": [
  {
   "cell_type": "markdown",
   "metadata": {},
   "source": [
    "Modify your greeting program so that if the user does not enter a name (i.e. they\n",
    "just press enter), the program responds \"Hello, Stranger!\". Otherwise it should print\n",
    "a greeting with their name as before"
   ]
  },
  {
   "cell_type": "code",
   "execution_count": 2,
   "metadata": {},
   "outputs": [
    {
     "name": "stdout",
     "output_type": "stream",
     "text": [
      "Hello, Ashutosh. Good to meet you!\n"
     ]
    }
   ],
   "source": [
    "# Modified Greeting Program\n",
    "user_name = input(\"Hello, what is your name? \")\n",
    "\n",
    "# Check if a name is provided\n",
    "if user_name:\n",
    "    print(f\"Hello, {user_name}. Good to meet you!\")\n",
    "else:\n",
    "    print(\"Hello, Stranger!\")\n"
   ]
  },
  {
   "cell_type": "markdown",
   "metadata": {},
   "source": [
    "Write a program that simulates the way in which a user might choose a password.\n",
    "The program should prompt for a new password, and then prompt again. If the two\n",
    "passwords entered are the same the program should say \"Password Set\" or\n",
    "similar, otherwise it should report an error"
   ]
  },
  {
   "cell_type": "code",
   "execution_count": 3,
   "metadata": {},
   "outputs": [
    {
     "name": "stdout",
     "output_type": "stream",
     "text": [
      "Password Set\n"
     ]
    }
   ],
   "source": [
    "# Password Simulation Program\n",
    "password1 = input(\"Enter a new password: \")\n",
    "password2 = input(\"Enter the password again: \")\n",
    "\n",
    "# Check if the passwords match\n",
    "if password1 == password2:\n",
    "    print(\"Password Set\")\n",
    "else:\n",
    "    print(\"Error: Passwords do not match. Please try again.\")\n"
   ]
  },
  {
   "cell_type": "markdown",
   "metadata": {},
   "source": [
    "Modify your previous program so that the password must be between 8 and 12\n",
    "characters (inclusive) long."
   ]
  },
  {
   "cell_type": "code",
   "execution_count": 4,
   "metadata": {},
   "outputs": [
    {
     "name": "stdout",
     "output_type": "stream",
     "text": [
      "Error: Password must be between 8 and 12 characters.\n",
      "Error: Password must be between 8 and 12 characters.\n",
      "Error: Password must be between 8 and 12 characters.\n",
      "Error: Password must be between 8 and 12 characters.\n",
      "Error: Password must be between 8 and 12 characters.\n",
      "Error: Password must be between 8 and 12 characters.\n",
      "Password Set\n"
     ]
    }
   ],
   "source": [
    "# Password Simulation Program with Length Requirement\n",
    "min_length = 8\n",
    "max_length = 12\n",
    "\n",
    "# Prompt for the first password\n",
    "password1 = input(f\"Enter a new password ({min_length}-{max_length} characters): \")\n",
    "\n",
    "# Check the length of the first password\n",
    "while not min_length <= len(password1) <= max_length:\n",
    "    print(f\"Error: Password must be between {min_length} and {max_length} characters.\")\n",
    "    password1 = input(f\"Enter a new password ({min_length}-{max_length} characters): \")\n",
    "\n",
    "# Prompt for the second password\n",
    "password2 = input(\"Enter the password again: \")\n",
    "\n",
    "# Check if the passwords match\n",
    "if password1 == password2:\n",
    "    print(\"Password Set\")\n",
    "else:\n",
    "    print(\"Error: Passwords do not match. Please try again.\")\n"
   ]
  },
  {
   "cell_type": "markdown",
   "metadata": {},
   "source": [
    "Modify your program again so that the chosen password cannot be one of a list of\n",
    "common passwords, defined thus:\n",
    "BAD_PASSWORDS = ['password', 'letmein', 'sesame', 'hello', 'justinbieber']"
   ]
  },
  {
   "cell_type": "code",
   "execution_count": 6,
   "metadata": {},
   "outputs": [
    {
     "name": "stdout",
     "output_type": "stream",
     "text": [
      "Error: This password is too common. Choose a different one.\n",
      "Error: This password is too common. Choose a different one.\n",
      "Error: Password must be between 8 and 12 characters.\n",
      "Password Set\n"
     ]
    }
   ],
   "source": [
    "# Password Simulation Program with Length and Common Password Check\n",
    "min_length = 8\n",
    "max_length = 12\n",
    "BAD_PASSWORDS = ['password', 'letmein', 'sesame', 'hello', 'justinbieber']\n",
    "\n",
    "# Prompt for the first password\n",
    "password1 = input(f\"Enter a new password ({min_length}-{max_length} characters): \")\n",
    "\n",
    "# Check the length and common password for the first password\n",
    "while not min_length <= len(password1) <= max_length or password1 in BAD_PASSWORDS:\n",
    "    if password1 in BAD_PASSWORDS:\n",
    "        print(\"Error: This password is too common. Choose a different one.\")\n",
    "    else:\n",
    "        print(f\"Error: Password must be between {min_length} and {max_length} characters.\")\n",
    "    password1 = input(f\"Enter a new password ({min_length}-{max_length} characters): \")\n",
    "\n",
    "# Prompt for the second password\n",
    "password2 = input(\"Enter the password again: \")\n",
    "\n",
    "# Check if the passwords match\n",
    "if password1 == password2:\n",
    "    print(\"Password Set\")\n",
    "else:\n",
    "    print(\"Error: Passwords do not match. Please try again.\")\n"
   ]
  },
  {
   "cell_type": "markdown",
   "metadata": {},
   "source": [
    "Modify your program a final time so that it executes until the user successfully\n",
    "chooses a password. That is, if the password chosen fails any of the checks, the\n",
    "program should return to asking for the password the first time."
   ]
  },
  {
   "cell_type": "code",
   "execution_count": 7,
   "metadata": {},
   "outputs": [
    {
     "name": "stdout",
     "output_type": "stream",
     "text": [
      "Error: Passwords do not match. Please try again.\n",
      "Password Set\n"
     ]
    }
   ],
   "source": [
    "# Final Password Simulation Program with Loop\n",
    "min_length = 8\n",
    "max_length = 12\n",
    "BAD_PASSWORDS = ['password', 'letmein', 'sesame', 'hello', 'justinbieber']\n",
    "\n",
    "while True:\n",
    "    # Prompt for the first password\n",
    "    password1 = input(f\"Enter a new password ({min_length}-{max_length} characters): \")\n",
    "\n",
    "    # Check the length and common password for the first password\n",
    "    while not min_length <= len(password1) <= max_length or password1 in BAD_PASSWORDS:\n",
    "        if password1 in BAD_PASSWORDS:\n",
    "            print(\"Error: This password is too common. Choose a different one.\")\n",
    "        else:\n",
    "            print(f\"Error: Password must be between {min_length} and {max_length} characters.\")\n",
    "        password1 = input(f\"Enter a new password ({min_length}-{max_length} characters): \")\n",
    "\n",
    "    # Prompt for the second password\n",
    "    password2 = input(\"Enter the password again: \")\n",
    "\n",
    "    # Check if the passwords match\n",
    "    if password1 == password2:\n",
    "        print(\"Password Set\")\n",
    "        break  # Exit the loop if the passwords match\n",
    "    else:\n",
    "        print(\"Error: Passwords do not match. Please try again.\")\n"
   ]
  },
  {
   "cell_type": "markdown",
   "metadata": {},
   "source": [
    "Write a program that displays the \"Seven Times Table\". That is, the result of\n",
    "multiplying 7 by every number from 0 to 12 inclusive. The output might start:\n",
    "0 x 7 = 0\n",
    "1 x 7 = 7\n",
    "2 x 7 = 14\n",
    "and so on\n",
    "\n"
   ]
  },
  {
   "cell_type": "code",
   "execution_count": 8,
   "metadata": {},
   "outputs": [
    {
     "name": "stdout",
     "output_type": "stream",
     "text": [
      "0 x 7 = 0\n",
      "1 x 7 = 7\n",
      "2 x 7 = 14\n",
      "3 x 7 = 21\n",
      "4 x 7 = 28\n",
      "5 x 7 = 35\n",
      "6 x 7 = 42\n",
      "7 x 7 = 49\n",
      "8 x 7 = 56\n",
      "9 x 7 = 63\n",
      "10 x 7 = 70\n",
      "11 x 7 = 77\n",
      "12 x 7 = 84\n"
     ]
    }
   ],
   "source": [
    "# Seven Times Table Program\n",
    "for i in range(13):  # Loop from 0 to 12\n",
    "    result = i * 7\n",
    "    print(f\"{i} x 7 = {result}\")\n"
   ]
  },
  {
   "cell_type": "markdown",
   "metadata": {},
   "source": [
    "Modify your \"Times Table\" program so that the user enters the number of the table\n",
    "they require. This number should be between 0 and 12 inclusive"
   ]
  },
  {
   "cell_type": "code",
   "execution_count": 10,
   "metadata": {},
   "outputs": [
    {
     "name": "stdout",
     "output_type": "stream",
     "text": [
      "0 x 12 = 0\n",
      "1 x 12 = 12\n",
      "2 x 12 = 24\n",
      "3 x 12 = 36\n",
      "4 x 12 = 48\n",
      "5 x 12 = 60\n",
      "6 x 12 = 72\n",
      "7 x 12 = 84\n",
      "8 x 12 = 96\n",
      "9 x 12 = 108\n",
      "10 x 12 = 120\n",
      "11 x 12 = 132\n",
      "12 x 12 = 144\n"
     ]
    }
   ],
   "source": [
    "# Custom Times Table Program\n",
    "table_number = int(input(\"Enter the number for the times table (0-12): \"))\n",
    "\n",
    "# Check if the input is within the valid range\n",
    "if 0 <= table_number <= 12:\n",
    "    for i in range(13):  # Loop from 0 to 12\n",
    "        result = i * table_number\n",
    "        print(f\"{i} x {table_number} = {result}\")\n",
    "else:\n",
    "    print(\"Error: Please enter a number between 0 and 12 inclusive.\")\n"
   ]
  }
 ],
 "metadata": {
  "kernelspec": {
   "display_name": "Python 3",
   "language": "python",
   "name": "python3"
  },
  "language_info": {
   "codemirror_mode": {
    "name": "ipython",
    "version": 3
   },
   "file_extension": ".py",
   "mimetype": "text/x-python",
   "name": "python",
   "nbconvert_exporter": "python",
   "pygments_lexer": "ipython3",
   "version": "3.11.1"
  }
 },
 "nbformat": 4,
 "nbformat_minor": 2
}
