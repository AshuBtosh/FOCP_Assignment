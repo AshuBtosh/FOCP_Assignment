{
 "cells": [
  {
   "cell_type": "markdown",
   "metadata": {},
   "source": [
    "Functions are often used to validate input. Write a function that accepts a single\n",
    "integer as a parameter and returns True if the integer is in the range 0 to 100\n",
    "(inclusive), or False otherwise. Write a short program to test the function"
   ]
  },
  {
   "cell_type": "code",
   "execution_count": 1,
   "metadata": {},
   "outputs": [
    {
     "name": "stdout",
     "output_type": "stream",
     "text": [
      "The entered integer is in the range 0 to 100.\n"
     ]
    }
   ],
   "source": [
    "def validate_integer_in_range(number):\n",
    "    return 0 <= number <= 100\n",
    "\n",
    "# Test the function\n",
    "user_input = int(input(\"Enter an integer: \"))\n",
    "\n",
    "if validate_integer_in_range(user_input):\n",
    "    print(\"The entered integer is in the range 0 to 100.\")\n",
    "else:\n",
    "    print(\"The entered integer is outside the range 0 to 100.\")\n"
   ]
  },
  {
   "cell_type": "markdown",
   "metadata": {},
   "source": [
    "Write a function that has a single string as its parameter, and returns the number of\n",
    "uppercase letters, and the number of lowercase letters in the string. Test the\n",
    "function with a short program"
   ]
  },
  {
   "cell_type": "code",
   "execution_count": 3,
   "metadata": {},
   "outputs": [
    {
     "name": "stdout",
     "output_type": "stream",
     "text": [
      "Uppercase letters: 1\n",
      "Lowercase letters: 20\n"
     ]
    }
   ],
   "source": [
    "def count_case(s):\n",
    "    uppercase_count = 0\n",
    "    lowercase_count = 0\n",
    "\n",
    "    for char in s:\n",
    "        if char.isupper():\n",
    "            uppercase_count += 1\n",
    "        elif char.islower():\n",
    "            lowercase_count += 1\n",
    "\n",
    "    return uppercase_count, lowercase_count\n",
    "\n",
    "# Test the function\n",
    "input_string = input(\"Enter a string: \")\n",
    "upper, lower = count_case(input_string)\n",
    "\n",
    "print(f\"Uppercase letters: {upper}\")\n",
    "print(f\"Lowercase letters: {lower}\")\n"
   ]
  },
  {
   "cell_type": "markdown",
   "metadata": {},
   "source": [
    "Modify your \"greetings\" program so that the first letter of the name entered is\n",
    "always in uppercase with the rest in lowercase. This should happen even if the user\n",
    "entered their name differently. So if the user entered arthur, ARTHUR, or even\n",
    "arTHur the name should be displayed as Arthur"
   ]
  },
  {
   "cell_type": "code",
   "execution_count": 4,
   "metadata": {},
   "outputs": [
    {
     "name": "stdout",
     "output_type": "stream",
     "text": [
      "Hello, Arthur. Good to meet you!\n"
     ]
    }
   ],
   "source": [
    "# Modified Greeting Program with Proper Capitalization\n",
    "user_name = input(\"Hello, what is your name? \")\n",
    "\n",
    "# Ensure proper capitalization\n",
    "formatted_name = user_name.capitalize()\n",
    "\n",
    "# Display the personalized greeting\n",
    "print(f\"Hello, {formatted_name}. Good to meet you!\")\n"
   ]
  },
  {
   "cell_type": "markdown",
   "metadata": {},
   "source": [
    "When processing data it is often useful to remove the last character from some\n",
    "input (it is often a newline). Write and test a function that takes a string parameter\n",
    "and returns it with the last character removed. (If the string contains one or fewer\n",
    "characters, return it unchanged.)"
   ]
  },
  {
   "cell_type": "code",
   "execution_count": 5,
   "metadata": {},
   "outputs": [
    {
     "name": "stdout",
     "output_type": "stream",
     "text": [
      "Original string: Ashutosh , are you good my bro? Howdy\n",
      "String with the last character removed: Ashutosh , are you good my bro? Howd\n"
     ]
    }
   ],
   "source": [
    "def remove_last_character(input_string):\n",
    "    if len(input_string) > 1:\n",
    "        return input_string[:-1]\n",
    "    else:\n",
    "        return input_string\n",
    "\n",
    "# Test the function\n",
    "input_text = input(\"Enter a string: \")\n",
    "result = remove_last_character(input_text)\n",
    "\n",
    "print(f\"Original string: {input_text}\")\n",
    "print(f\"String with the last character removed: {result}\")\n"
   ]
  },
  {
   "cell_type": "markdown",
   "metadata": {},
   "source": [
    "Write and test a function that converts a temperature measured in degrees\n",
    "centigrade into the equivalent in fahrenheit, and another that does the reverse\n",
    "conversion. Test both functions. (Google will find you the formulae)"
   ]
  },
  {
   "cell_type": "code",
   "execution_count": 6,
   "metadata": {},
   "outputs": [
    {
     "name": "stdout",
     "output_type": "stream",
     "text": [
      "0.0°C is equivalent to 32.0°F\n"
     ]
    }
   ],
   "source": [
    "def celsius_to_fahrenheit(celsius):\n",
    "    return (celsius * 9/5) + 32\n",
    "\n",
    "# Test the Celsius to Fahrenheit conversion\n",
    "celsius_temperature = float(input(\"Enter temperature in Celsius: \"))\n",
    "fahrenheit_result = celsius_to_fahrenheit(celsius_temperature)\n",
    "print(f\"{celsius_temperature}°C is equivalent to {fahrenheit_result}°F\")\n"
   ]
  },
  {
   "cell_type": "code",
   "execution_count": 7,
   "metadata": {},
   "outputs": [
    {
     "name": "stdout",
     "output_type": "stream",
     "text": [
      "32.0°F is equivalent to 0.0°C\n"
     ]
    }
   ],
   "source": [
    "def fahrenheit_to_celsius(fahrenheit):\n",
    "    return (fahrenheit - 32) * 5/9\n",
    "\n",
    "# Test the Fahrenheit to Celsius conversion\n",
    "fahrenheit_temperature = float(input(\"Enter temperature in Fahrenheit: \"))\n",
    "celsius_result = fahrenheit_to_celsius(fahrenheit_temperature)\n",
    "print(f\"{fahrenheit_temperature}°F is equivalent to {celsius_result}°C\")\n"
   ]
  },
  {
   "cell_type": "markdown",
   "metadata": {},
   "source": [
    "Write a program that takes a centigrade temperature and displays the equivalent in\n",
    "fahrenheit. The input should be a number followed by a letter C. The output should\n",
    "be in the same format"
   ]
  },
  {
   "cell_type": "code",
   "execution_count": 9,
   "metadata": {},
   "outputs": [
    {
     "name": "stdout",
     "output_type": "stream",
     "text": [
      "55.0°C is equivalent to 131.0°F\n"
     ]
    }
   ],
   "source": [
    "def celsius_to_fahrenheit(celsius):\n",
    "    return (celsius * 9/5) + 32\n",
    "\n",
    "# Input centigrade temperature\n",
    "input_temperature = input(\"Enter temperature in centigrade (e.g., 25C): \")\n",
    "\n",
    "# Extract the numeric part and the unit\n",
    "numeric_part = float(input_temperature[:-1])\n",
    "unit = input_temperature[-1].upper()\n",
    "\n",
    "# Check if the unit is 'C' for Celsius\n",
    "if unit == 'C':\n",
    "    # Convert to Fahrenheit\n",
    "    fahrenheit_result = celsius_to_fahrenheit(numeric_part)\n",
    "    print(f\"{numeric_part}°C is equivalent to {fahrenheit_result}°F\")\n",
    "else:\n",
    "    print(\"Invalid input. Please enter a temperature followed by 'C'.\")\n"
   ]
  },
  {
   "cell_type": "markdown",
   "metadata": {},
   "source": [
    "Write a program that reads 6 temperatures (in the same format as before), and\n",
    "displays the maximum, minimum, and mean of the values.\n",
    "Hint: You should know there are built-in functions for max and min. If you hunt, you\n",
    "might also find one for the mean."
   ]
  },
  {
   "cell_type": "code",
   "execution_count": 10,
   "metadata": {},
   "outputs": [
    {
     "name": "stdout",
     "output_type": "stream",
     "text": [
      "Maximum temperature: 104.0°F\n",
      "Minimum temperature: 21.2°F\n",
      "Mean temperature: 76.10°F\n"
     ]
    }
   ],
   "source": [
    "def celsius_to_fahrenheit(celsius):\n",
    "    return (celsius * 9/5) + 32\n",
    "\n",
    "# Read 6 temperatures\n",
    "temperatures = []\n",
    "for i in range(6):\n",
    "    input_temperature = input(f\"Enter temperature {i + 1} in centigrade (e.g., 25C): \")\n",
    "    numeric_part = float(input_temperature[:-1])\n",
    "    unit = input_temperature[-1].upper()\n",
    "\n",
    "    if unit == 'C':\n",
    "        temperatures.append(numeric_part)\n",
    "    else:\n",
    "        print(f\"Invalid input for temperature {i + 1}. Please enter a temperature followed by 'C'.\")\n",
    "        exit()\n",
    "\n",
    "# Calculate and display maximum, minimum, and mean\n",
    "if temperatures:\n",
    "    fahrenheit_temperatures = [celsius_to_fahrenheit(temp) for temp in temperatures]\n",
    "\n",
    "    max_temp = max(fahrenheit_temperatures)\n",
    "    min_temp = min(fahrenheit_temperatures)\n",
    "    mean_temp = sum(fahrenheit_temperatures) / len(fahrenheit_temperatures)\n",
    "\n",
    "    print(f\"Maximum temperature: {max_temp}°F\")\n",
    "    print(f\"Minimum temperature: {min_temp}°F\")\n",
    "    print(f\"Mean temperature: {mean_temp:.2f}°F\")\n",
    "else:\n",
    "    print(\"No valid temperatures entered.\")\n"
   ]
  },
  {
   "cell_type": "markdown",
   "metadata": {},
   "source": [
    "Modify the previous program so that it can process any number of values. The input\n",
    "terminates when the user just pressed \"Enter\" at the prompt rather than entering a\n",
    "value."
   ]
  },
  {
   "cell_type": "code",
   "execution_count": 11,
   "metadata": {},
   "outputs": [
    {
     "name": "stdout",
     "output_type": "stream",
     "text": [
      "Maximum temperature: 109.4°F\n",
      "Minimum temperature: 53.6°F\n",
      "Mean temperature: 79.23°F\n"
     ]
    }
   ],
   "source": [
    "def celsius_to_fahrenheit(celsius):\n",
    "    return (celsius * 9/5) + 32\n",
    "\n",
    "# Read temperatures until the user presses Enter without entering a value\n",
    "temperatures = []\n",
    "while True:\n",
    "    input_temperature = input(\"Enter temperature in centigrade (press Enter to finish): \")\n",
    "\n",
    "    if not input_temperature:\n",
    "        break  # Exit the loop if Enter is pressed without entering a value\n",
    "\n",
    "    numeric_part = float(input_temperature[:-1])\n",
    "    unit = input_temperature[-1].upper()\n",
    "\n",
    "    if unit == 'C':\n",
    "        temperatures.append(numeric_part)\n",
    "    else:\n",
    "        print(\"Invalid input. Please enter a temperature followed by 'C' or press Enter to finish.\")\n",
    "\n",
    "# Check if there are valid temperatures and calculate/display results\n",
    "if temperatures:\n",
    "    fahrenheit_temperatures = [celsius_to_fahrenheit(temp) for temp in temperatures]\n",
    "\n",
    "    max_temp = max(fahrenheit_temperatures)\n",
    "    min_temp = min(fahrenheit_temperatures)\n",
    "    mean_temp = sum(fahrenheit_temperatures) / len(fahrenheit_temperatures)\n",
    "\n",
    "    print(f\"Maximum temperature: {max_temp}°F\")\n",
    "    print(f\"Minimum temperature: {min_temp}°F\")\n",
    "    print(f\"Mean temperature: {mean_temp:.2f}°F\")\n",
    "else:\n",
    "    print(\"No valid temperatures entered.\")\n"
   ]
  }
 ],
 "metadata": {
  "kernelspec": {
   "display_name": "Python 3",
   "language": "python",
   "name": "python3"
  },
  "language_info": {
   "codemirror_mode": {
    "name": "ipython",
    "version": 3
   },
   "file_extension": ".py",
   "mimetype": "text/x-python",
   "name": "python",
   "nbconvert_exporter": "python",
   "pygments_lexer": "ipython3",
   "version": "3.11.1"
  }
 },
 "nbformat": 4,
 "nbformat_minor": 2
}
