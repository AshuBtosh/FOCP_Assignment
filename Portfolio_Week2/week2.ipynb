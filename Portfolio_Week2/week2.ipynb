{
 "cells": [
  {
   "cell_type": "markdown",
   "metadata": {},
   "source": [
    "Last week you wrote a program that printed out a cheery greeting including your\n",
    "name. Take a copy of it, and modify it so that the user enters their name at the\n",
    "keyboard, and then receives a greeting. For example:\n",
    "Hello, what is your name? Mr Apricot\n",
    "Hello, Mr Apricot. Good to meet you!"
   ]
  },
  {
   "cell_type": "code",
   "execution_count": 2,
   "metadata": {},
   "outputs": [
    {
     "name": "stdout",
     "output_type": "stream",
     "text": [
      "Hello, Mr Apricot. Good to meet you!\n"
     ]
    }
   ],
   "source": [
    "# Modified Cheery Greeting Program with User Input\n",
    "user_name = input(\"Hello, what is your name? \")  # User enters their name\n",
    "\n",
    "# Display the personalized greeting\n",
    "print(f\"Hello, {user_name}. Good to meet you!\")\n"
   ]
  },
  {
   "cell_type": "markdown",
   "metadata": {},
   "source": [
    "\"\"\"Write a program that prompts a user to enter a temperature in Celsius, and then\n",
    "displays the corresponding temperature in Fahrenheit, like so:\n",
    "Enter a temperature in Celsius: 32.5\n",
    "32.5C is equivalent to 90.5F.\"\"\""
   ]
  },
  {
   "cell_type": "code",
   "execution_count": 3,
   "metadata": {},
   "outputs": [
    {
     "name": "stdout",
     "output_type": "stream",
     "text": [
      "32.5°C is equivalent to 90.5°F.\n"
     ]
    }
   ],
   "source": [
    "# Celsius to Fahrenheit Conversion Program\n",
    "celsius_temperature = float(input(\"Enter a temperature in Celsius: \"))  # User enters the temperature\n",
    "\n",
    "# Convert Celsius to Fahrenheit\n",
    "fahrenheit_temperature = (celsius_temperature * 9/5) + 32\n",
    "\n",
    "# Display the result\n",
    "print(f\"{celsius_temperature}°C is equivalent to {fahrenheit_temperature}°F.\")\n"
   ]
  },
  {
   "cell_type": "markdown",
   "metadata": {},
   "source": [
    "The Head of Computing at the University of Poppleton is tasked with dividing a\n",
    "group of students into lab groups. A lab group is usually 24 students, but this is\n",
    "sometimes varied to create groups of similar size. Write a program that prompts for\n",
    "the number of students and group size, and then displays how many groups will be\n",
    "needed and how many will be left over in a smaller group.\n",
    "How many students? 113\n",
    "Required group size? 22\n",
    "There will be 5 groups with 3 students left over.\n",
    "For bonus credit, see if you can fix the grammar in the output. So if there were 101\n",
    "students in groups of 20 the output would be:\n",
    "There will be 5 groups with 1 student left over."
   ]
  },
  {
   "cell_type": "code",
   "execution_count": 5,
   "metadata": {},
   "outputs": [
    {
     "name": "stdout",
     "output_type": "stream",
     "text": [
      "There will be 5 groups with 1 student left over.\n"
     ]
    }
   ],
   "source": [
    "# Lab Group Calculation Program\n",
    "total_students = int(input(\"How many students? \"))\n",
    "group_size = int(input(\"Required group size? \"))\n",
    "\n",
    "# Calculate the number of full groups and remaining students\n",
    "full_groups = total_students // group_size\n",
    "remaining_students = total_students % group_size\n",
    "\n",
    "# Display the results with correct grammar\n",
    "if full_groups == 1 and remaining_students == 1:\n",
    "    print(f\"There will be 1 group with 1 student left over.\")\n",
    "elif full_groups == 1:\n",
    "    print(f\"There will be 1 group with {remaining_students} students left over.\")\n",
    "elif remaining_students == 1:\n",
    "    print(f\"There will be {full_groups} groups with 1 student left over.\")\n",
    "else:\n",
    "    print(f\"There will be {full_groups} groups with {remaining_students} students left over.\")\n"
   ]
  },
  {
   "cell_type": "markdown",
   "metadata": {},
   "source": [
    "A kindly teacher wishes to distribute a tub of sweets between her pupils. She will\n",
    "first count the sweets and then divide them according to how many pupils attend\n",
    "that day. Write a program that will tell the teacher how many sweets to give to each\n",
    "pupil, and how many she will have left over."
   ]
  },
  {
   "cell_type": "code",
   "execution_count": 7,
   "metadata": {},
   "outputs": [
    {
     "name": "stdout",
     "output_type": "stream",
     "text": [
      "Each pupil will receive 4 sweets.\n",
      "There will be 0 sweets left over.\n"
     ]
    }
   ],
   "source": [
    "# Sweets Distribution Program\n",
    "total_sweets = int(input(\"Enter the total number of sweets: \"))\n",
    "num_pupils = int(input(\"Enter the number of pupils: \"))\n",
    "\n",
    "# Calculate sweets per pupil and remaining sweets\n",
    "sweets_per_pupil = total_sweets // num_pupils\n",
    "remaining_sweets = total_sweets % num_pupils\n",
    "\n",
    "# Display the results\n",
    "print(f\"Each pupil will receive {sweets_per_pupil} sweets.\")\n",
    "print(f\"There will be {remaining_sweets} sweets left over.\")\n"
   ]
  }
 ],
 "metadata": {
  "kernelspec": {
   "display_name": "Python 3",
   "language": "python",
   "name": "python3"
  },
  "language_info": {
   "codemirror_mode": {
    "name": "ipython",
    "version": 3
   },
   "file_extension": ".py",
   "mimetype": "text/x-python",
   "name": "python",
   "nbconvert_exporter": "python",
   "pygments_lexer": "ipython3",
   "version": "3.11.1"
  }
 },
 "nbformat": 4,
 "nbformat_minor": 2
}
